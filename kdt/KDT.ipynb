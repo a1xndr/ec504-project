{
 "cells": [
  {
   "cell_type": "code",
   "execution_count": 1,
   "metadata": {},
   "outputs": [],
   "source": [
    "import numpy as np\n",
    "from os import listdir\n",
    "import matplotlib.pyplot as plt\n",
    "from sklearn.model_selection import train_test_split\n",
    "import cv2, calendar, time, pickle, PIL\n",
    "from sklearn.decomposition import PCA\n",
    "%matplotlib inline\n",
    "\n",
    "def L2(x, y): # Euclidean Distance\n",
    "    sum = 0.0\n",
    "    for i in range(len(x)):\n",
    "        sum = sum + (x[i] - y[i]) * (x[i] - y[i])\n",
    "    return np.math.sqrt(sum)\n",
    "\n",
    "def DisplayTree(root): # Preorder Display\n",
    "    print(root.point)\n",
    "    if root.left:\n",
    "        DisplayTree(root.left)\n",
    "    if root.right:\n",
    "        DisplayTree(root.right)\n",
    "\n",
    "def NNS(dist_array=None, tmp_dist=0.0, point=None, k=1, NN=None,):\n",
    "    \"\"\"Nearest Neighbor Search Algorithm\"\"\"\n",
    "    if tmp_dist <= np.min(dist_array) : \n",
    "            for i in range(k-1,0,-1) :\n",
    "                dist_array[i] = dist_array[i-1]\n",
    "                NN[i] = NN[i-1]    \n",
    "            dist_array[0] = tmp_dist\n",
    "            NN[0] = point                \n",
    "            return NN, dist_array\n",
    "    for i in range(k): # Find more nn point in the other hyperplanes\n",
    "        if (dist_array[i] <= tmp_dist) and (dist_array[i+1] >= tmp_dist):\n",
    "            for j in range(k-1,i,-1) : \n",
    "                dist_array[j] = dist_array[j-1]\n",
    "                NN[j] = NN[j-1]\n",
    "            dist_array[i+1] = tmp_dist\n",
    "            NN[i+1] = point\n",
    "            break\n",
    "    return NN, dist_array\n",
    "\n",
    "class Node(object):\n",
    "    \"\"\"Construct Node\"\"\"\n",
    "    def __init__(self, point=None, plane=None, left=None, right=None):\n",
    "        self.point = point\n",
    "        self.plane = plane\n",
    "        self.left = left\n",
    "        self.right = right\n",
    "\n",
    "class KDTree(object):\n",
    "    \"\"\"Construct the Tree structure\"\"\"\n",
    "    def __init__(self, data=None):\n",
    "        def createNode(plane=None, dataset=None): # Create nodes\n",
    "            if  len(dataset) == 0:\n",
    "                return None\n",
    "            dataset = list(dataset)\n",
    "            data_set = dataset.sort(key=lambda x: x[plane])\n",
    "            dataset = np.array(dataset)\n",
    "            # Find the median\n",
    "            pivot = len(dataset) // 2\n",
    "            return Node(dataset[pivot], plane,\n",
    "                          createNode(_max(dataset[:pivot]),dataset[:pivot]), \n",
    "                          createNode(_max(dataset[pivot+1:]),dataset[pivot+1:]))\n",
    "        \n",
    "        # Find the root of the tree\n",
    "        def _max(dataset=None):\n",
    "            l = len(dataset)\n",
    "            if  l == 0: \n",
    "                return 0\n",
    "            m = np.mean(dataset,axis=0)\n",
    "            diff = dataset - m\n",
    "            var = np.sum(diff ** 2,axis=0)/l\n",
    "            res = np.where(var == np.max(var))\n",
    "            return res[0][0]\n",
    "        \n",
    "        self.root = createNode(_max(data), data)\n"
   ]
  },
  {
   "cell_type": "code",
   "execution_count": 2,
   "metadata": {},
   "outputs": [],
   "source": [
    "def searchKDTree(KDTree=None, query=None, k=1):  \n",
    "    \"\"\"Search KD Tree for NNS\"\"\"\n",
    "    if k == 0: \n",
    "        return None\n",
    "    tempN = KDTree.root\n",
    "    NN = [tempN.point] * k\n",
    "    dist_array = [float(\"inf\")] * k\n",
    "    nodes = []\n",
    "    \n",
    "    def Path(query=None, tempN=None, nodes=None, dist_array=None, NN=None):\n",
    "        \"\"\"Path of the Search in KD Tree\"\"\"\n",
    "        while tempN:\n",
    "            nodes.append(tempN)\n",
    "            plane = tempN.plane\n",
    "            point = tempN.point\n",
    "            tmp_dist = L2(point, query)\n",
    "            if tmp_dist < np.max(dist_array) :\n",
    "                NN, dist_array = NNS(dist_array, tmp_dist, point, k, NN)\n",
    "            if  query[plane] <= point[plane] : \n",
    "                tempN = tempN.left\n",
    "            else : \n",
    "                tempN = tempN.right\n",
    "        return NN, dist_array\n",
    "    NN, dist_array = Path( query, tempN, nodes, dist_array, NN)\n",
    "    \n",
    "    while nodes:\n",
    "        last_node = nodes.pop()\n",
    "        plane = last_node.plane\n",
    "        point = last_node.point\n",
    "        if not abs(query[plane] - point[plane]) >= np.max(dist_array) :\n",
    "            if (query[plane] <= point[plane]):\n",
    "                tempN = last_node.right\n",
    "            else:\n",
    "                tempN = last_node.left\n",
    "            if tempN:\n",
    "                NN, dist_array = Path( query, tempN, nodes, dist_array, NN)\n",
    "    return NN, dist_array \n"
   ]
  },
  {
   "cell_type": "code",
   "execution_count": 3,
   "metadata": {},
   "outputs": [],
   "source": [
    "data = [[4,1,3,5],[3,6,5,7],[5,2,6.5,5],[4.8,4.2,5,8],[1,1,8,6],[1,6,5,3],[4.1,3.7,2,5],[4.7,4.1,5,9],[2,4,6,8.7]]  # samples\n",
    "data = np.asarray(data)\n",
    "kd = KDTree(data)"
   ]
  },
  {
   "cell_type": "code",
   "execution_count": 4,
   "metadata": {},
   "outputs": [
    {
     "name": "stdout",
     "output_type": "stream",
     "text": [
      "[1. 1. 8. 6.]\n",
      "[4.1 3.7 2.  5. ]\n",
      "[5.  2.  6.5 5. ]\n",
      "[4. 1. 3. 5.]\n",
      "[1. 6. 5. 3.]\n",
      "[4.7 4.1 5.  9. ]\n",
      "[3. 6. 5. 7.]\n",
      "[2.  4.  6.  8.7]\n",
      "[4.8 4.2 5.  8. ]\n"
     ]
    }
   ],
   "source": [
    "DisplayTree(kd.root)"
   ]
  },
  {
   "cell_type": "code",
   "execution_count": 5,
   "metadata": {},
   "outputs": [],
   "source": [
    "ktest = 9\n",
    "res, vecdisctances = searchKDTree(kd, [0,3,2,0], ktest)"
   ]
  },
  {
   "cell_type": "code",
   "execution_count": 6,
   "metadata": {},
   "outputs": [
    {
     "name": "stdout",
     "output_type": "stream",
     "text": [
      "[array([1., 6., 5., 3.]), array([4.1, 3.7, 2. , 5. ]), array([4., 1., 3., 5.]), array([5. , 2. , 6.5, 5. ]), array([3., 6., 5., 7.]), array([1., 1., 8., 6.]), array([2. , 4. , 6. , 8.7]), array([4.8, 4.2, 5. , 8. ]), array([4.7, 4.1, 5. , 9. ])]\n",
      "\n",
      "[5.291502622129181, 6.5038450166036395, 6.782329983125268, 8.440971508067067, 8.717797887081348, 8.774964387392123, 9.833107342035882, 9.873196037757987, 10.644247272588137]\n"
     ]
    }
   ],
   "source": [
    "print (res)\n",
    "print()\n",
    "print(vecdisctances)"
   ]
  },
  {
   "cell_type": "markdown",
   "metadata": {},
   "source": [
    "#### The following loads in the cifar-10-dataset training and testing files. There are 50000 training images and 10000 test images. (32x32 colour images in 10 classes). They are subset of the 80 million tiny images dataset.\n",
    "#### Build the 50000 color images in KD-Tree and use one of the test images to search the k-nearest similar image.\n",
    "#### Download Link: https://www.cs.toronto.edu/~kriz/cifar.html"
   ]
  },
  {
   "cell_type": "code",
   "execution_count": 7,
   "metadata": {},
   "outputs": [],
   "source": [
    "trainigDataFiles = ('./cifar-10-batches-py/data_batch_1', './cifar-10-batches-py/data_batch_2', './cifar-10-batches-py/data_batch_3', './cifar-10-batches-py/data_batch_4','./cifar-10-batches-py/data_batch_5') #An array of filenames containing the training data set\n",
    "testDataFile = './cifar-10-batches-py/test_batch'\n",
    "pcaDim = 10"
   ]
  },
  {
   "cell_type": "code",
   "execution_count": 8,
   "metadata": {},
   "outputs": [],
   "source": [
    "# HOG Parameters:\n",
    "winSize = 32\n",
    "blockSize = 12\n",
    "blockStride = 4\n",
    "cellSize = 4\n",
    "nbins = 18\n",
    "derivAperture = 1\n",
    "winSigma = -1.\n",
    "histogramNormType = 0\n",
    "L2HysThreshold = 0.2\n",
    "gammaCorrection = True\n",
    "nlevels = 64\n",
    "signedGradient = True\n",
    "hog = cv2.HOGDescriptor((winSize,winSize),(blockSize, blockSize),(blockStride,blockStride),(cellSize,cellSize),nbins,derivAperture, winSigma,histogramNormType,L2HysThreshold,gammaCorrection,nlevels,signedGradient)"
   ]
  },
  {
   "cell_type": "code",
   "execution_count": 9,
   "metadata": {},
   "outputs": [],
   "source": [
    "def loadData(filename):\n",
    "    '''\n",
    "    Load the data from the given filename\n",
    "    '''\n",
    "    f = open(filename, 'rb')\n",
    "    theSet = pickle.load(f,encoding='latin1')\n",
    "    f.close()\n",
    "\n",
    "    return theSet['data'], theSet['labels']"
   ]
  },
  {
   "cell_type": "code",
   "execution_count": 10,
   "metadata": {},
   "outputs": [],
   "source": [
    "def convertImages(origImages):\n",
    "    '''\n",
    "    Convert the images from CIFAR-10 format, to an array of 10000 images each is 32 X 32 X 3 size\n",
    "    images: array of images each in 32 X 32 X 3 size\n",
    "    '''\n",
    "    images = np.reshape(origImages,(-1, channels, imageSize, imageSize))\n",
    "    images = np.transpose(images, (0,2,3,1))\n",
    "\n",
    "    return images"
   ]
  },
  {
   "cell_type": "code",
   "execution_count": 11,
   "metadata": {},
   "outputs": [],
   "source": [
    "imageSize = 32  #The size of the original image - in pixels - assuming this is a square image\n",
    "channels = 3    #The number of channels of the image. A RBG color image, has 3 channels\n",
    "classes = 10    #The number of classes available for this dataset\n",
    "trainingDataSize = 50000    #The number of images in the training set\n",
    "testDataSize = 10000        #The number of images in the test set"
   ]
  },
  {
   "cell_type": "code",
   "execution_count": 12,
   "metadata": {},
   "outputs": [],
   "source": [
    "def loadTestData(filename):\n",
    "    '''\n",
    "    Load the test data\n",
    "    '''\n",
    "    origTestImages, testLabels = loadData(filename)\n",
    "    testImages = convertImages(origTestImages)\n",
    "\n",
    "    return testImages, testLabels"
   ]
  },
  {
   "cell_type": "code",
   "execution_count": 13,
   "metadata": {},
   "outputs": [],
   "source": [
    "def loadTrainingData(filenames):\n",
    "    '''\n",
    "    Load all the training data from all files\n",
    "    '''\n",
    "    trainingImages = np.zeros(shape=[trainingDataSize, imageSize, imageSize, channels], dtype=np.uint8)\n",
    "    trainingLabels = np.zeros(shape=[trainingDataSize], dtype=int)\n",
    "\n",
    "    start=0\n",
    "    for fileName in filenames:\n",
    "        origImages, labels = loadData(fileName)\n",
    "        images = convertImages(origImages)\n",
    "\n",
    "        numOfImages = len(images);\n",
    "        end = start + numOfImages;\n",
    "        trainingImages[start:end, :] = images\n",
    "        trainingLabels[start:end] = labels\n",
    "        start = end\n",
    "\n",
    "    return trainingImages, trainingLabels"
   ]
  },
  {
   "cell_type": "code",
   "execution_count": 14,
   "metadata": {},
   "outputs": [],
   "source": [
    "def currentTime():\n",
    "    '''\n",
    "    Returns the current time in seconds since EPOC\n",
    "    '''\n",
    "    return calendar.timegm(time.gmtime())"
   ]
  },
  {
   "cell_type": "code",
   "execution_count": 15,
   "metadata": {},
   "outputs": [],
   "source": [
    "def grid_display(list_of_images, no_of_columns=2, figsize=(10,10)):\n",
    "    \"\"\"Display images in grid\"\"\"\n",
    "    fig = plt.figure(figsize=figsize)\n",
    "    column = 0\n",
    "    for i in range(len(list_of_images)):\n",
    "        column += 1\n",
    "        if column == no_of_columns+1:\n",
    "            fig = plt.figure(figsize=figsize)\n",
    "            column = 1\n",
    "        fig.add_subplot(1, no_of_columns, column)\n",
    "        plt.imshow(list_of_images[i])\n",
    "        plt.axis('off')"
   ]
  },
  {
   "cell_type": "code",
   "execution_count": 16,
   "metadata": {},
   "outputs": [],
   "source": [
    "def calcHOG(images):\n",
    "    '''\n",
    "    Calculate the HOG (Histogram of Oriented Gradients) feature descriptors of the given images\n",
    "    Returns:\n",
    "    --------\n",
    "    hogDescriptors: an array of HOG vectors, 5832 components each\n",
    "    '''\n",
    "    hogDescriptors = []\n",
    "    for image in images:\n",
    "        hogDescriptors.append(hog.compute(image))\n",
    "    hogDescriptors = np.squeeze(hogDescriptors)\n",
    "    return hogDescriptors"
   ]
  },
  {
   "cell_type": "code",
   "execution_count": 17,
   "metadata": {},
   "outputs": [
    {
     "name": "stdout",
     "output_type": "stream",
     "text": [
      "Loading the training set...\n",
      "Took: 0 sec\n"
     ]
    }
   ],
   "source": [
    "print(\"Loading the training set...\"),\n",
    "tik = currentTime()\n",
    "trainingImages, trainingLabels = loadTrainingData(trainigDataFiles)\n",
    "print(\"Took: \" + str(currentTime()-tik) + \" sec\" )"
   ]
  },
  {
   "cell_type": "code",
   "execution_count": 33,
   "metadata": {},
   "outputs": [
    {
     "name": "stdout",
     "output_type": "stream",
     "text": [
      "(50000, 32, 32, 3)\n"
     ]
    }
   ],
   "source": [
    "print(trainingImages.shape)"
   ]
  },
  {
   "cell_type": "code",
   "execution_count": 18,
   "metadata": {},
   "outputs": [
    {
     "name": "stdout",
     "output_type": "stream",
     "text": [
      "Creating HOG descriptors from the training set...\n",
      "Took: 8 sec\n"
     ]
    }
   ],
   "source": [
    "print(\"Creating HOG descriptors from the training set...\"),\n",
    "tik = currentTime()\n",
    "trainHogDescriptors = calcHOG(trainingImages)\n",
    "print(\"Took: \" + str(currentTime() - tik) + \" sec\")"
   ]
  },
  {
   "cell_type": "code",
   "execution_count": 31,
   "metadata": {},
   "outputs": [
    {
     "name": "stdout",
     "output_type": "stream",
     "text": [
      "(50000, 5832)\n"
     ]
    }
   ],
   "source": [
    "print(trainHogDescriptors.shape)"
   ]
  },
  {
   "cell_type": "code",
   "execution_count": 19,
   "metadata": {},
   "outputs": [
    {
     "name": "stdout",
     "output_type": "stream",
     "text": [
      "Reducing the dimension of the HOG descriptors to 10...\n",
      "Took: 9 sec\n"
     ]
    }
   ],
   "source": [
    "print(\"Reducing the dimension of the HOG descriptors to \" + str(pcaDim) + \"...\"),\n",
    "tik = currentTime()\n",
    "pca = PCA(pcaDim)\n",
    "trainHogProjected = pca.fit_transform(trainHogDescriptors)\n",
    "print(\"Took: \" + str(currentTime() - tik) + \" sec\")"
   ]
  },
  {
   "cell_type": "code",
   "execution_count": 32,
   "metadata": {},
   "outputs": [
    {
     "name": "stdout",
     "output_type": "stream",
     "text": [
      "(50000, 10)\n"
     ]
    }
   ],
   "source": [
    "print(trainHogProjected.shape)"
   ]
  },
  {
   "cell_type": "code",
   "execution_count": 20,
   "metadata": {},
   "outputs": [
    {
     "name": "stdout",
     "output_type": "stream",
     "text": [
      "Save it as a PCA file...\n",
      "Took: 0 sec\n"
     ]
    }
   ],
   "source": [
    "pcaFileName = 'pca'\n",
    "print(\"Save it as a PCA file...\"), \n",
    "tik = currentTime() \n",
    "pcaFile = open(pcaFileName, 'wb')\n",
    "pickle.dump(pca, pcaFile)\n",
    "pcaFile.close()\n",
    "print(\"Took: \" + str(currentTime() - tik) + \" sec\")"
   ]
  },
  {
   "cell_type": "code",
   "execution_count": 21,
   "metadata": {},
   "outputs": [
    {
     "name": "stdout",
     "output_type": "stream",
     "text": [
      "Build Image KD-tree...\n",
      "Took: 3 sec\n"
     ]
    }
   ],
   "source": [
    "print(\"Build Image KD-tree...\")\n",
    "kdnew = KDTree(np.asarray(trainHogProjected))\n",
    "print(\"Took: \" + str(currentTime() - tik) + \" sec\")"
   ]
  },
  {
   "cell_type": "code",
   "execution_count": 22,
   "metadata": {},
   "outputs": [
    {
     "name": "stdout",
     "output_type": "stream",
     "text": [
      "Loading the test set...\n",
      "Took: 0 sec\n"
     ]
    }
   ],
   "source": [
    "print(\"Loading the test set...\"),\n",
    "tik = currentTime()\n",
    "testImages, testLabels = loadTestData(testDataFile)\n",
    "print(\"Took: \" + str(currentTime() - tik) + \" sec\")"
   ]
  },
  {
   "cell_type": "code",
   "execution_count": 23,
   "metadata": {},
   "outputs": [
    {
     "name": "stdout",
     "output_type": "stream",
     "text": [
      "Creating HOG descriptors from the test set...\n",
      "Took: 2 sec\n"
     ]
    }
   ],
   "source": [
    "print(\"Creating HOG descriptors from the test set...\"),\n",
    "tik = currentTime()\n",
    "testHogDescriptors = calcHOG(testImages);\n",
    "print(\"Took: \" + str(currentTime() - tik) + \" sec\")"
   ]
  },
  {
   "cell_type": "code",
   "execution_count": 24,
   "metadata": {},
   "outputs": [
    {
     "name": "stdout",
     "output_type": "stream",
     "text": [
      "Reducing the dimension of the HOG descriptors to 10...\n",
      "Took: 0 sec\n"
     ]
    }
   ],
   "source": [
    "print(\"Reducing the dimension of the HOG descriptors to \" + str(pcaDim) + \"...\"),\n",
    "tik = currentTime()\n",
    "testHogProjected = pca.transform(testHogDescriptors)\n",
    "print(\"Took: \" + str(currentTime() - tik) + \" sec\")"
   ]
  },
  {
   "cell_type": "code",
   "execution_count": 25,
   "metadata": {},
   "outputs": [
    {
     "name": "stdout",
     "output_type": "stream",
     "text": [
      "KNN Search in KD-tree...\n",
      "Took: 0 sec\n"
     ]
    }
   ],
   "source": [
    "k = 8 # Number of Search\n",
    "t_img = testHogProjected[1] # Test image to Search in the Tree\n",
    "\n",
    "print(\"KNN Search in KD-tree...\")\n",
    "result, distMat = searchKDTree(kdnew, np.asarray(t_img), k)\n",
    "print(\"Took: \" + str(currentTime() - tik) + \" sec\")"
   ]
  },
  {
   "cell_type": "code",
   "execution_count": 26,
   "metadata": {},
   "outputs": [
    {
     "name": "stdout",
     "output_type": "stream",
     "text": [
      "\n",
      "Test Image...\n"
     ]
    },
    {
     "data": {
      "image/png": "[encoded data removed]",
      "text/plain": [
       "<matplotlib.figure.Figure at 0x10a774860>"
      ]
     },
     "metadata": {},
     "output_type": "display_data"
    }
   ],
   "source": [
    "testx = np.where(np.prod(testHogProjected == t_img, axis = -1))\n",
    "testy = testx[0][0]\n",
    "testimg = testImages[testy]\n",
    "img = PIL.Image.fromarray(testimg)\n",
    "plt.subplot(1, 2, 1)\n",
    "plt.imshow(img, interpolation='none')\n",
    "plt.axis('off')\n",
    "print()\n",
    "print(\"Test Image...\")"
   ]
  },
  {
   "cell_type": "code",
   "execution_count": 27,
   "metadata": {},
   "outputs": [
    {
     "name": "stdout",
     "output_type": "stream",
     "text": [
      "\n",
      "8  Nearest Images...\n"
     ]
    },
    {
     "data": {
      "image/png": "[encoded data removed]",
      "text/plain": [
       "<matplotlib.figure.Figure at 0x1a2333f6a0>"
      ]
     },
     "metadata": {},
     "output_type": "display_data"
    },
    {
     "data": {
      "image/png": "[encoded data removed]",
      "text/plain": [
       "<matplotlib.figure.Figure at 0x1a23515cc0>"
      ]
     },
     "metadata": {},
     "output_type": "display_data"
    }
   ],
   "source": [
    "print()\n",
    "# print(\"PCA's n_components: \", pcaDim,\"\\n\")\n",
    "print(k, \" Nearest Images...\")\n",
    "Imagess = []\n",
    "for i in range(k):\n",
    "    indx = np.where(np.prod(trainHogProjected == result[i], axis = -1))\n",
    "    indy = indx[0][0]\n",
    "    res_img = trainingImages[indy]\n",
    "    img_tr = PIL.Image.fromarray(res_img)\n",
    "    Imagess.append(img_tr)\n",
    "\n",
    "grid_display(Imagess, 4, (10,10))"
   ]
  },
  {
   "cell_type": "code",
   "execution_count": 28,
   "metadata": {},
   "outputs": [],
   "source": [
    "# im = PIL.Image.open(\"airplane.jpg\")\n",
    "# im = im.resize((32, 32), Image.ANTIALIAS)\n",
    "# im = np.asarray(im)\n",
    "# # img = im\n",
    "# # print(im)\n",
    "# img = convertImages(im)\n",
    "# # print(img)\n",
    "# testimg2 = calcHOG(img);\n",
    "# testimg2 = testimg2.reshape(1,-1)\n",
    "# testproj = pca.transform(testimg2)\n",
    "\n",
    "# res, distM = searchKDTree(kdnew,testproj[0], k)\n",
    "\n",
    "# imgg = PIL.Image.fromarray(im)\n",
    "# plt.subplot(1, 2, 1)\n",
    "# plt.imshow(imgg, interpolation='none')\n",
    "# plt.axis('off')\n",
    "# print()\n",
    "# print(\"Test Image...\")"
   ]
  },
  {
   "cell_type": "code",
   "execution_count": 29,
   "metadata": {},
   "outputs": [],
   "source": [
    "# Imagess2 = []\n",
    "# for i in range(k):\n",
    "#     indx = np.where(np.prod(trainHogProjected == res[i], axis = -1))\n",
    "#     indy = indx[0][0]\n",
    "#     res_img = trainingImages[indy]\n",
    "#     img_tr = PIL.Image.fromarray(res_img)\n",
    "#     Imagess2.append(img_tr)\n",
    "# grid_display(Imagess2, 4, (10,10))"
   ]
  },
  {
   "cell_type": "code",
   "execution_count": null,
   "metadata": {},
   "outputs": [],
   "source": []
  }
 ],
 "metadata": {
  "kernelspec": {
   "display_name": "Python 3",
   "language": "python",
   "name": "python3"
  },
  "language_info": {
   "codemirror_mode": {
    "name": "ipython",
    "version": 3
   },
   "file_extension": ".py",
   "mimetype": "text/x-python",
   "name": "python",
   "nbconvert_exporter": "python",
   "pygments_lexer": "ipython3",
   "version": "3.6.4"
  }
 },
 "nbformat": 4,
 "nbformat_minor": 2
}
